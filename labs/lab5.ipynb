{
 "cells": [
  {
   "cell_type": "markdown",
   "metadata": {
    "collapsed": false,
    "pycharm": {
     "name": "#%% md\n"
    }
   },
   "source": [
    "# Deep Reinforcement Learning\n",
    "In this lab we will implement and train an agent that uses deep learning to play balance the stick in `CartPole-v1`."
   ]
  },
  {
   "cell_type": "markdown",
   "metadata": {
    "collapsed": false,
    "pycharm": {
     "name": "#%% md\n"
    }
   },
   "source": [
    "## Setup\n",
    "----\n",
    "We import useful packages: `gym`, `torch` stuff, etc.."
   ]
  },
  {
   "cell_type": "markdown",
   "metadata": {
    "collapsed": false,
    "pycharm": {
     "name": "#%% md\n"
    }
   },
   "source": [
    "Imports:"
   ]
  },
  {
   "cell_type": "code",
   "execution_count": 177,
   "metadata": {
    "collapsed": false,
    "pycharm": {
     "name": "#%%\n"
    }
   },
   "outputs": [],
   "source": [
    "import gym\n",
    "import random\n",
    "\n",
    "import torch\n",
    "import torch.nn as nn\n",
    "import torch.optim as optim\n",
    "import torch.nn.functional as F\n",
    "\n",
    "from torch.autograd import Variable\n",
    "\n",
    "from collections import deque  # for memory\n",
    "from tqdm import tqdm          # for progress bar\n",
    "\n",
    "import numpy as np"
   ]
  },
  {
   "cell_type": "markdown",
   "metadata": {
    "collapsed": false,
    "pycharm": {
     "name": "#%% md\n"
    }
   },
   "source": [
    "How the game looks (without our agent):"
   ]
  },
  {
   "cell_type": "code",
   "execution_count": 178,
   "metadata": {
    "collapsed": false,
    "pycharm": {
     "name": "#%%\n"
    }
   },
   "outputs": [
    {
     "data": {
      "text/plain": [
       "\"\\nenv = gym.make('CartPole-v1', render_mode='human')\\nfor _ in tqdm(range(10)):\\n    state, _ = env.reset()\\n    done = False\\n    while not done:\\n        action = env.action_space.sample()\\n        next_state, reward, done, _, _ = env.step(action)\\nenv.close()\\n\""
      ]
     },
     "execution_count": 178,
     "metadata": {},
     "output_type": "execute_result"
    }
   ],
   "source": [
    "'''\n",
    "env = gym.make('CartPole-v1', render_mode='human')\n",
    "for _ in tqdm(range(10)):\n",
    "    state, _ = env.reset()\n",
    "    done = False\n",
    "    while not done:\n",
    "        action = env.action_space.sample()\n",
    "        next_state, reward, done, _, _ = env.step(action)\n",
    "env.close()\n",
    "'''"
   ]
  },
  {
   "cell_type": "markdown",
   "metadata": {
    "collapsed": false,
    "pycharm": {
     "name": "#%% md\n"
    }
   },
   "source": [
    "## DQN Algorithm\n",
    "-------------\n",
    "We train a policy that tries to maximize the discounted,\n",
    "cumulative reward\n",
    "$R_{t_0} = \\sum_{t=t_0}^{\\infty} \\gamma^{t - t_0} r_t$, where\n",
    "$R_{t_0}$ is *return*. The discount, $\\gamma$ is the discount, between $0$ and $1$\n",
    "\n",
    "\n",
    "Q-learning tries to find a function\n",
    "$Q^*: State \\times Action \\rightarrow \\mathbb{R}$, maximizes rewards:\n",
    "\n",
    "$\\begin{align}\\pi^*(s) = \\arg\\!\\max_a \\ Q^*(s, a)\\end{align}$\n",
    "\n",
    "However, we don't know $Q^*$. So, we use neural network as a approximators, we can simply create one and train it to resemble $Q^*$.\n",
    "\n",
    "For our training update rule, we'll use a fact that every $Q$\n",
    "function for some policy obeys the Bellman equation:\n",
    "\n",
    "$\\begin{align}Q^{\\pi}(s, a) = r + \\gamma Q^{\\pi}(s', \\pi(s'))\\end{align}$\n",
    "\n",
    "The difference between the two sides of the equality is known as the temporal difference error, $\\delta$:\n",
    "\n",
    "$\\begin{align}\\delta = Q(s, a) - (r + \\gamma \\max_a Q(s', a))\\end{align}$"
   ]
  },
  {
   "cell_type": "markdown",
   "metadata": {
    "collapsed": false,
    "pycharm": {
     "name": "#%% md\n"
    }
   },
   "source": [
    "### Model\n",
    "---\n",
    "Make a deep learning based policy model, that takes in a state and outputs an action.\n",
    "This model will be an attribute of the Agent we make next."
   ]
  },
  {
   "cell_type": "code",
   "execution_count": 179,
   "metadata": {
    "collapsed": false,
    "pycharm": {
     "name": "#%%\n"
    }
   },
   "outputs": [],
   "source": [
    "class Model(nn.Module):\n",
    "    def __init__(self, observation_size, action_size):\n",
    "        super(Model, self).__init__()\n",
    "        # initialise layers here\n",
    "        self.dense1 = nn.Linear(observation_size, 32)\n",
    "        torch.nn.init.xavier_uniform_(self.dense1.weight)\n",
    "        self.dense2 = nn.Linear(32, 32)\n",
    "        torch.nn.init.xavier_uniform_(self.dense2.weight)\n",
    "        self.dense3 = nn.Linear(32, 32)\n",
    "        torch.nn.init.xavier_uniform_(self.dense3.weight)\n",
    "        self.dense4 = nn.Linear(32, action_size)\n",
    "        torch.nn.init.xavier_uniform_(self.dense4.weight)\n",
    "\n",
    "    def forward(self, x):\n",
    "        # send x through the network\n",
    "        x = self.dense1(x)\n",
    "        x = F.relu(x)\n",
    "        x = self.dense2(x)\n",
    "        x = F.relu(x)\n",
    "        x = self.dense3(x)\n",
    "        x = F.relu(x)\n",
    "        x = self.dense4(x)\n",
    "        return x\n",
    "\n",
    "    def predict(self, x):\n",
    "        #x = torch.Tensor(x)\n",
    "        x = self.forward(x)\n",
    "        return x"
   ]
  },
  {
   "cell_type": "markdown",
   "metadata": {
    "collapsed": false,
    "pycharm": {
     "name": "#%% md\n"
    }
   },
   "source": [
    "### DQN Agent\n",
    "----\n",
    "We will be using experience replay memory for training our model.\n",
    "An Agent's memory is as important as its model, and will be another attribute of our agent.\n",
    "Other appropriate attributes are the hyperparameters (gamma, lr, etc.).\n",
    "Give the agent a replay method that trains on a batch from its memory.\n"
   ]
  },
  {
   "cell_type": "code",
   "execution_count": 180,
   "metadata": {},
   "outputs": [],
   "source": [
    "env = gym.make('CartPole-v1')\n",
    "#env.reset()"
   ]
  },
  {
   "cell_type": "code",
   "execution_count": 181,
   "metadata": {
    "collapsed": false,
    "pycharm": {
     "name": "#%%\n"
    }
   },
   "outputs": [],
   "source": [
    "from logging import critical\n",
    "\n",
    "\n",
    "class Agent:\n",
    "    def __init__(self, observation_size, action_size):\n",
    "        self.observation_size = observation_size\n",
    "        self.action_size = action_size\n",
    "        self.criterion = nn.MSELoss()\n",
    "        self.model = Model(observation_size, action_size)\n",
    "        self.optimizer = optim.Adam(self.model.parameters(), lr=1e-3)\n",
    "        self.discount_value = 0.9\n",
    "        self.epsilon = 0.1\n",
    "        self.epsilondecay = 0.995\n",
    "        #When appending to deque, if we exceed the maximum size we remove the oldest element of the list\n",
    "        self.memory = deque([], maxlen=2000) # memory that stores N most new transitions\n",
    "        # good place to store hyperparameters as attributes\n",
    "    def remember(self, state, action, reward, next_state, done):\n",
    "        # add to memory\n",
    "        self.memory.append([state, action, reward, next_state, done])\n",
    "\n",
    "    def act(self, state):\n",
    "        # return an action from the model\n",
    "        #print (self.epsilon)\n",
    "        if random.uniform(0,1) > self.epsilon:\n",
    "            action = env.action_space.sample()\n",
    "            action = int(action)\n",
    "            return action\n",
    "        else:\n",
    "            action = torch.argmax(self.model.predict(torch.tensor(state)))\n",
    "            action = int(action)\n",
    "            return action\n",
    "\n",
    "        #pass\n",
    "\n",
    "    def replay(self, batch_size):\n",
    "        # update model based on replay memory\n",
    "        # you might want to make a self.train() helper method\n",
    "        \n",
    "        minibatch = random.sample(self.memory, batch_size)\n",
    "        self.optimizer.zero_grad()\n",
    "        for i in range(batch_size):\n",
    "            self.train(minibatch[i])\n",
    "            \n",
    "        self.epsilon *= self.epsilondecay\n",
    "        self.optimizer.step()        \n",
    "\n",
    "    def train(self, sample):\n",
    "        s, a, r, st1, d = sample\n",
    "        r = torch.tensor(r)\n",
    "        if not d:\n",
    "            value = r + self.discount_value * float(torch.max(self.model.forward(torch.tensor(st1))))\n",
    "        else:\n",
    "            value = r\n",
    "        pred = self.model.forward(torch.tensor(s))[a]\n",
    "        loss = self.criterion(pred, value)\n",
    "        loss.backward()\n",
    "        return int(loss)\n"
   ]
  },
  {
   "cell_type": "markdown",
   "metadata": {
    "collapsed": false,
    "pycharm": {
     "name": "#%% md\n"
    }
   },
   "source": [
    "### Main Training loop\n",
    "---\n",
    "Make a function that takes and environment and an agent, and runs through $n$ episodes.\n",
    "Remember to call that agent's replay function to learn from its past (once it has a past).\n"
   ]
  },
  {
   "cell_type": "code",
   "execution_count": 182,
   "metadata": {
    "collapsed": false,
    "pycharm": {
     "name": "#%%\n"
    }
   },
   "outputs": [],
   "source": [
    "def train(env, agent, episodes=1000, batch_size=64):  # train for many games\n",
    "    for _ in tqdm(range(episodes)):\n",
    "        state, _ = env.reset()\n",
    "        done = False\n",
    "        total_reward = 0\n",
    "        actionLeft = 0\n",
    "        actionRight = 1\n",
    "        while not done:\n",
    "            # 1. make a move in game.\n",
    "            action = agent.act(state)\n",
    "            # 2. have the agent remember stuff.\n",
    "            #action = env.action_space.sample()\n",
    "            \n",
    "            new_state, reward, done, _, _ = env.step(action)\n",
    "            \n",
    "            total_reward += reward\n",
    "            agent.remember(state, action, reward, new_state, done)\n",
    "            # 3. update state\n",
    "            state = new_state\n",
    "            # 4. if we have enough experiences in out memory, learn from a batch with replay.\n",
    "            if len(agent.memory) >= batch_size:\n",
    "                agent.replay(batch_size)\n",
    "        #print (\"Total reward for episode = \" + str(total_reward) + \"     ActionsLeft = \" + str(actionLeft) + \"      actionRight = \" + str(actionRight))\n",
    "    env.close()"
   ]
  },
  {
   "cell_type": "markdown",
   "metadata": {
    "collapsed": false,
    "pycharm": {
     "name": "#%% md\n"
    }
   },
   "source": [
    "### Putting it together\n",
    "---\n",
    "We train an agent on the environment:\n"
   ]
  },
  {
   "cell_type": "code",
   "execution_count": 183,
   "metadata": {
    "collapsed": false,
    "pycharm": {
     "name": "#%%\n"
    }
   },
   "outputs": [
    {
     "name": "stderr",
     "output_type": "stream",
     "text": [
      " 34%|███▍      | 339/1000 [05:16<10:31,  1.05it/s]"
     ]
    }
   ],
   "source": [
    "env = gym.make('CartPole-v1', render_mode ='human')\n",
    "agent = Agent(env.observation_space.shape[0], env.action_space.n)\n",
    "train(env, agent)\n",
    "env.close()\n",
    "torch.save(agent.model.state_dict(), 'model.pth')\n",
    "\n",
    "agent.model.state_dict = torch.load('model.pth')\n",
    "\n",
    "env = gym.make('CartPole-v1', render_mode ='human')\n",
    "for _ in tqdm(range(10)):\n",
    "        state, _ = env.reset()\n",
    "        done = False\n",
    "        while not done:\n",
    "            # 1. make a move in game.\n",
    "            action = agent.act(state)\n",
    "            # 2. have the agent remember stuff\n",
    "            state, reward, done, _, _ = env.step(action)\n",
    "            # 3. update state\n",
    "env.close()"
   ]
  },
  {
   "cell_type": "markdown",
   "metadata": {
    "collapsed": false,
    "pycharm": {
     "name": "#%% md\n"
    }
   },
   "source": [
    "## Optional (highly recommended): Atari\n",
    "Adapt your agent to play an Atari game of your choice.\n",
    "https://www.gymlibrary.dev/environments/atari/air_raid/"
   ]
  },
  {
   "cell_type": "code",
   "execution_count": null,
   "metadata": {
    "collapsed": false,
    "pycharm": {
     "name": "#%%\n"
    }
   },
   "outputs": [],
   "source": []
  }
 ],
 "metadata": {
  "kernelspec": {
   "display_name": "Python 3.10.6 64-bit",
   "language": "python",
   "name": "python3"
  },
  "language_info": {
   "codemirror_mode": {
    "name": "ipython",
    "version": 3
   },
   "file_extension": ".py",
   "mimetype": "text/x-python",
   "name": "python",
   "nbconvert_exporter": "python",
   "pygments_lexer": "ipython3",
   "version": "3.10.7"
  },
  "vscode": {
   "interpreter": {
    "hash": "683e9bbf599fde3b00e37a0db68ad40a268db525b46af3924c3427b16ddb8792"
   }
  }
 },
 "nbformat": 4,
 "nbformat_minor": 0
}
