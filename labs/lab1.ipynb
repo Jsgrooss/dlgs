{
 "cells": [
  {
   "cell_type": "markdown",
   "id": "c43c1a77-b308-4747-9dd3-8161415d0542",
   "metadata": {
    "pycharm": {
     "name": "#%% md\n"
    },
    "tags": []
   },
   "source": [
    "# Monte Carlo Tree Search Lab\n",
    "\n",
    "In this lab, we'll be using the game connect four, as a vehicle for learning MinMax and Monte Carlo Tree Search.\n",
    "We'll also introduce concepts, such as state, that'll stay relevant throughout the course.\n",
    "Expect to lose in connect four to the algorithm at the end of the lab."
   ]
  },
  {
   "cell_type": "markdown",
   "id": "3df728ba-bb09-419c-80c6-3e42863c9322",
   "metadata": {
    "pycharm": {
     "name": "#%% md\n"
    }
   },
   "source": [
    "## Setup\n",
    "This section you won't need to edit, but it is worth skimming through—this is where we declare the objects you'll be interacting with througout the lab."
   ]
  },
  {
   "cell_type": "code",
   "execution_count": 1,
   "id": "c6afed3e-4274-42f2-baf7-fd808e967e27",
   "metadata": {
    "pycharm": {
     "name": "#%%\n"
    }
   },
   "outputs": [],
   "source": [
    "# imports\n",
    "import random\n",
    "from typing import List, Tuple\n",
    "import time\n",
    "from copy import deepcopy # world -> thought"
   ]
  },
  {
   "cell_type": "code",
   "execution_count": 2,
   "id": "32942bc4-a6cf-4485-8b47-4e3618bc8660",
   "metadata": {
    "pycharm": {
     "name": "#%%\n"
    }
   },
   "outputs": [],
   "source": [
    "# world and world model\n",
    "class State:\n",
    "    def __init__(self, cols=7, rows=6, win_req=4):\n",
    "        self.board = [['.'] * cols for _ in range(rows)]\n",
    "        self.heights = [1] * cols\n",
    "        self.num_moves = 0\n",
    "        self.win_req = win_req\n",
    "\n",
    "    def get_avail_actions(self) -> List[int]:\n",
    "        return [i for i in range(len(self.board[0])) if self.heights[i] <= len(self.board)]\n",
    "  \n",
    "    def put_action(self, action, agent):\n",
    "        self.board[len(self.board) - self.heights[action]][action] = agent.name\n",
    "        self.heights[action] += 1\n",
    "        self.num_moves += 1\n",
    "\n",
    "    def is_over(self):\n",
    "        return self.num_moves >= len(self.board) * len(self.board[0])\n",
    "\n",
    "    def __repr__(self):\n",
    "        return self.__str__()\n",
    "    \n",
    "    def __str__(self):\n",
    "        header  = \" \".join([str(i) for i in range(len(self.board[0]))])\n",
    "        line    = \"\".join([\"-\" for _ in range(len(header))])\n",
    "        board   = [[e for e in row] for row in self.board]\n",
    "        board   = '\\n'.join([' '.join(row) for row in board])\n",
    "        return  '\\n' + header + '\\n' + line + '\\n' + board + '\\n'\n"
   ]
  },
  {
   "cell_type": "code",
   "execution_count": 3,
   "id": "34ae7a75",
   "metadata": {
    "jupyter": {
     "outputs_hidden": false
    },
    "pycharm": {
     "name": "#%%\n"
    }
   },
   "outputs": [],
   "source": [
    "# evaluate the utility of a state\n",
    "def utility(state: 'State'):\n",
    "    board = state.board\n",
    "    n_cols = len(board[0]) - 1\n",
    "    n_rows = len(board) - 1\n",
    "\n",
    "    def diags_pos():\n",
    "        \"\"\"Get positive diagonals, going from bottom-left to top-right.\"\"\"\n",
    "        for di in ([(j, i - j) for j in range(n_cols)] for i in range(n_cols + n_rows - 1)):\n",
    "            yield [board[i][j] for i, j in di if i >= 0 and j >= 0 and i < n_cols and j < n_rows]\n",
    "\n",
    "    def diags_neg():\n",
    "        \"\"\"Get negative diagonals, going from top-left to bottom-right.\"\"\"\n",
    "        for di in ([(j, i - n_cols + j + 1) for j in range(n_cols)] for i in range(n_cols + n_rows - 1)):\n",
    "            yield [board[i][j] for i, j in di if i >= 0 and j >= 0 and i < n_cols and j < n_rows]\n",
    "\n",
    "    cols = list(map(list, list(zip(*board))))\n",
    "    rows = board\n",
    "    diags = list(diags_neg()) + list(diags_pos())\n",
    "    lines = rows + cols + diags\n",
    "    strings = [\"\".join(s) for s in lines]\n",
    "    for string in strings:\n",
    "        if 'OOOO' in string:\n",
    "            return -1\n",
    "        if 'XXXX' in string:\n",
    "            return 1\n",
    "    return 0\n"
   ]
  },
  {
   "cell_type": "code",
   "execution_count": 4,
   "id": "d9c3e952",
   "metadata": {
    "jupyter": {
     "outputs_hidden": false
    },
    "pycharm": {
     "name": "#%%\n"
    }
   },
   "outputs": [],
   "source": [
    "# parrent class for mcts, minmax, human, and any other idea for an agent you have\n",
    "class Agent:\n",
    "    def __init__(self, name: str):\n",
    "        self.name: str = name\n",
    "\n",
    "    def get_action(self, state: State):\n",
    "        return random.choice(state.get_avail_actions())"
   ]
  },
  {
   "cell_type": "code",
   "execution_count": 5,
   "id": "eb42b607-098c-41f5-a3dd-c5d44311c9c1",
   "metadata": {
    "pycharm": {
     "name": "#%%\n"
    }
   },
   "outputs": [],
   "source": [
    "# connecting states and agents\n",
    "class Game:\n",
    "    def __init__(self, agents: Tuple[Agent]):\n",
    "        self.agents = agents\n",
    "        self.state = State()\n",
    "\n",
    "    def play(self):\n",
    "        while utility(self.state) == 0 and not self.state.is_over():\n",
    "            for agent in agents:\n",
    "                if utility(self.state) == 0 and not self.state.is_over():\n",
    "                    action = agent.get_action(self.state)\n",
    "                    self.state.put_action(action, agent)\n",
    "                    print(self.state)"
   ]
  },
  {
   "cell_type": "markdown",
   "id": "ae4a8a5f-ca01-4c07-bf57-22d94ab91bef",
   "metadata": {
    "pycharm": {
     "name": "#%% md\n"
    }
   },
   "source": [
    "## Exercise 0: Discuss and Run game\n",
    "Let's discuss if the `utility` function best belongs to the state or the agent.\n",
    "Put the state, agent and game class together so that a game is run."
   ]
  },
  {
   "cell_type": "code",
   "execution_count": 6,
   "id": "795cdddb-c33f-4310-ac20-0f5abd3409d7",
   "metadata": {
    "pycharm": {
     "name": "#%%\n"
    }
   },
   "outputs": [
    {
     "name": "stdout",
     "output_type": "stream",
     "text": [
      "\n",
      "0 1 2 3 4 5 6\n",
      "-------------\n",
      ". . . . . . .\n",
      ". . . . . . .\n",
      ". . . . . . .\n",
      ". . . . . . .\n",
      ". . . . . . .\n",
      ". . . . . . O\n",
      "\n",
      "\n",
      "0 1 2 3 4 5 6\n",
      "-------------\n",
      ". . . . . . .\n",
      ". . . . . . .\n",
      ". . . . . . .\n",
      ". . . . . . .\n",
      ". . . . . . X\n",
      ". . . . . . O\n",
      "\n",
      "\n",
      "0 1 2 3 4 5 6\n",
      "-------------\n",
      ". . . . . . .\n",
      ". . . . . . .\n",
      ". . . . . . .\n",
      ". . . . . . O\n",
      ". . . . . . X\n",
      ". . . . . . O\n",
      "\n",
      "\n",
      "0 1 2 3 4 5 6\n",
      "-------------\n",
      ". . . . . . .\n",
      ". . . . . . .\n",
      ". . . . . . .\n",
      ". . . . . . O\n",
      ". . . . . . X\n",
      ". . . . X . O\n",
      "\n",
      "\n",
      "0 1 2 3 4 5 6\n",
      "-------------\n",
      ". . . . . . .\n",
      ". . . . . . .\n",
      ". . . . . . .\n",
      ". . . . . . O\n",
      ". . . . . . X\n",
      ". . O . X . O\n",
      "\n",
      "\n",
      "0 1 2 3 4 5 6\n",
      "-------------\n",
      ". . . . . . .\n",
      ". . . . . . .\n",
      ". . . . . . .\n",
      ". . . . . . O\n",
      ". . . . . . X\n",
      ". . O . X X O\n",
      "\n",
      "\n",
      "0 1 2 3 4 5 6\n",
      "-------------\n",
      ". . . . . . .\n",
      ". . . . . . .\n",
      ". . . . . . O\n",
      ". . . . . . O\n",
      ". . . . . . X\n",
      ". . O . X X O\n",
      "\n",
      "\n",
      "0 1 2 3 4 5 6\n",
      "-------------\n",
      ". . . . . . .\n",
      ". . . . . . X\n",
      ". . . . . . O\n",
      ". . . . . . O\n",
      ". . . . . . X\n",
      ". . O . X X O\n",
      "\n",
      "\n",
      "0 1 2 3 4 5 6\n",
      "-------------\n",
      ". . . . . . .\n",
      ". . . . . . X\n",
      ". . . . . . O\n",
      ". . . . . . O\n",
      ". . . . O . X\n",
      ". . O . X X O\n",
      "\n",
      "\n",
      "0 1 2 3 4 5 6\n",
      "-------------\n",
      ". . . . . . .\n",
      ". . . . . . X\n",
      ". . . . . . O\n",
      ". . . . . . O\n",
      ". . . . O . X\n",
      ". X O . X X O\n",
      "\n",
      "\n",
      "0 1 2 3 4 5 6\n",
      "-------------\n",
      ". . . . . . .\n",
      ". . . . . . X\n",
      ". . . . . . O\n",
      ". . . . . . O\n",
      ". . . . O . X\n",
      "O X O . X X O\n",
      "\n",
      "\n",
      "0 1 2 3 4 5 6\n",
      "-------------\n",
      ". . . . . . .\n",
      ". . . . . . X\n",
      ". . . . . . O\n",
      ". . . . . . O\n",
      ". X . . O . X\n",
      "O X O . X X O\n",
      "\n",
      "\n",
      "0 1 2 3 4 5 6\n",
      "-------------\n",
      ". . . . . . .\n",
      ". . . . . . X\n",
      ". . . . . . O\n",
      ". . . . . . O\n",
      "O X . . O . X\n",
      "O X O . X X O\n",
      "\n",
      "\n",
      "0 1 2 3 4 5 6\n",
      "-------------\n",
      ". . . . . . .\n",
      ". . . . . . X\n",
      ". . . . . . O\n",
      ". . . . . . O\n",
      "O X . . O X X\n",
      "O X O . X X O\n",
      "\n",
      "\n",
      "0 1 2 3 4 5 6\n",
      "-------------\n",
      ". . . . . . .\n",
      ". . . . . . X\n",
      ". . . . . . O\n",
      ". . . . . . O\n",
      "O X O . O X X\n",
      "O X O . X X O\n",
      "\n",
      "\n",
      "0 1 2 3 4 5 6\n",
      "-------------\n",
      ". . . . . . .\n",
      ". . . . . . X\n",
      ". . . . . . O\n",
      ". . . . X . O\n",
      "O X O . O X X\n",
      "O X O . X X O\n",
      "\n",
      "\n",
      "0 1 2 3 4 5 6\n",
      "-------------\n",
      ". . . . . . .\n",
      ". . . . . . X\n",
      ". . . . . . O\n",
      ". . O . X . O\n",
      "O X O . O X X\n",
      "O X O . X X O\n",
      "\n",
      "\n",
      "0 1 2 3 4 5 6\n",
      "-------------\n",
      ". . . . . . .\n",
      ". . . . . . X\n",
      ". . . . X . O\n",
      ". . O . X . O\n",
      "O X O . O X X\n",
      "O X O . X X O\n",
      "\n",
      "\n",
      "0 1 2 3 4 5 6\n",
      "-------------\n",
      ". . . . . . .\n",
      ". . . . . . X\n",
      ". . . . X . O\n",
      ". . O . X O O\n",
      "O X O . O X X\n",
      "O X O . X X O\n",
      "\n",
      "\n",
      "0 1 2 3 4 5 6\n",
      "-------------\n",
      ". . . . . . .\n",
      ". . . . X . X\n",
      ". . . . X . O\n",
      ". . O . X O O\n",
      "O X O . O X X\n",
      "O X O . X X O\n",
      "\n",
      "\n",
      "0 1 2 3 4 5 6\n",
      "-------------\n",
      ". . . . . . .\n",
      ". . . . X . X\n",
      ". . O . X . O\n",
      ". . O . X O O\n",
      "O X O . O X X\n",
      "O X O . X X O\n",
      "\n"
     ]
    }
   ],
   "source": [
    "agents = (Agent('O'), Agent('X'))\n",
    "game = Game(agents)\n",
    "game.play()"
   ]
  },
  {
   "cell_type": "markdown",
   "id": "6377f998-91ca-4641-8307-e64c8be93491",
   "metadata": {
    "pycharm": {
     "name": "#%% md\n"
    }
   },
   "source": [
    "## Exercise 1: Human Agent\n",
    "Make a child class of `Agent` called `Human`, with the `get_action` method overwritten to take input from you. *hint*: use `int(input())`"
   ]
  },
  {
   "cell_type": "code",
   "execution_count": 7,
   "id": "d2649620-9f2f-4f6a-8e57-9f216a3c3b62",
   "metadata": {
    "pycharm": {
     "name": "#%%\n"
    }
   },
   "outputs": [],
   "source": [
    "class Human(Agent):\n",
    "  def __init__(self, name):\n",
    "    super(Human, self).__init__(name)\n",
    "\n",
    "  def get_action(self, state: State):\n",
    "    print (state.get_avail_actions())\n",
    "    #print (state.heights[0]) \n",
    "    return int(input(\"Make your move\"))"
   ]
  },
  {
   "cell_type": "markdown",
   "id": "b89fa6b2-e265-4cf0-8017-8369d4a15fef",
   "metadata": {
    "pycharm": {
     "name": "#%% md\n"
    }
   },
   "source": [
    "## Exercise 2: Gekko\n",
    "Make a child class of `Agent` called `Gekko`, with a `get_action` that is very short sighted (greedy). You can basically do whatever you want here, as long as your output a valid action. You might want to make a `utility` function for the agent, and perhaps some helper functions. Write a two line comment explaining your Gekko's heuristic."
   ]
  },
  {
   "cell_type": "code",
   "execution_count": 8,
   "id": "8b999e09-dde6-41db-8222-a7d63803d632",
   "metadata": {
    "pycharm": {
     "name": "#%%\n"
    }
   },
   "outputs": [],
   "source": [
    "\"\"\"This agent is very dumb and \"greedy\" in the sense that it will always make an action closes to the middle colounm, hoping to eventually get 4 in a row by building from the middle out\"\"\"\n",
    "class Gekko(Agent): \n",
    "  def __init__(self, name):\n",
    "    super(Gekko, self).__init__(name)\n",
    "\n",
    "  \n",
    "  def find_col(self, state: State):\n",
    "    if state.heights[3] <= 6:\n",
    "      return 3\n",
    "    elif state.heights[2] <= 6:\n",
    "      return 2\n",
    "    elif state.heights[4] <= 6:\n",
    "      return 4\n",
    "    elif state.heights[1] <= 6:\n",
    "      return 1\n",
    "    elif state.heights[5] <= 6:\n",
    "      return 5\n",
    "    elif state.heights[0] <= 6:\n",
    "      return 0\n",
    "    elif state.heights[6] <= 6:\n",
    "      return 6\n",
    "\n",
    "  def get_action(self, state: State):\n",
    "    colToPlay = self.find_col(state)\n",
    "    return colToPlay\n",
    "\n"
   ]
  },
  {
   "cell_type": "markdown",
   "id": "1a5195ff",
   "metadata": {
    "pycharm": {
     "name": "#%% md\n"
    },
    "tags": []
   },
   "source": [
    "## *Optional exercise: MinMax (useful to have done for exercise 3)*\n",
    "Make a MinMax agent:"
   ]
  },
  {
   "cell_type": "code",
   "execution_count": 9,
   "id": "7b9b7de7",
   "metadata": {
    "jupyter": {
     "outputs_hidden": false
    },
    "pycharm": {
     "name": "#%%\n"
    }
   },
   "outputs": [],
   "source": [
    "class MinMax(Agent):\n",
    "  def __init__(self, name):\n",
    "    super(MinMax, self).__init__(name)\n",
    "\n",
    "  def miniMax(self, position, depth, maximizingPlayer, state: State):\n",
    "    if depth == 0 or State.is_over:\n",
    "      print (\"something happened\")\n",
    "      pass\n",
    "\n",
    "    if maximizingPlayer:\n",
    "      print(\"in maximizingPlayer\")\n",
    "      maxEval = -(math.inf)\n",
    "      maxAvailActions = state.get_avail_actions()\n",
    "      for action in maxAvailActions:\n",
    "        eval = self.miniMax(position, depth-1, False, state)\n",
    "        maxEval = max(maxEval, eval)\n",
    "      return maxEval\n",
    "\n",
    "    else:\n",
    "      print(\"in minimizingPlayer\")\n",
    "      minEval = math.inf\n",
    "      minAvailActions = state.get_avail_actions()\n",
    "      for action in minAvailActions:\n",
    "        eval = self.miniMax(position, depth-1, True, state)\n",
    "        minEval = min(minEval, eval)\n",
    "      return minEval\n",
    "\n",
    "  def get_action(self, state: State):\n",
    "    startAction = random.choice(state.get_avail_actions())\n",
    "    bestAction = self.miniMax(startAction, state.heights[startAction], True, state)\n",
    "    return int(bestAction)"
   ]
  },
  {
   "cell_type": "markdown",
   "id": "f5bb1506-bff6-46b6-a05b-3c26a7e3ad26",
   "metadata": {
    "pycharm": {
     "name": "#%% md\n"
    }
   },
   "source": [
    "## Exercise 3: MCTS\n",
    "Same but for Monte Carlo Tree Search. See if you can beat it with a `Human`."
   ]
  },
  {
   "cell_type": "code",
   "execution_count": null,
   "id": "ee199e77",
   "metadata": {
    "jupyter": {
     "outputs_hidden": false
    },
    "pycharm": {
     "name": "#%%\n"
    }
   },
   "outputs": [],
   "source": [
    "# class Node:\n",
    "#     def __init__(self, state: State, parent: 'Node' = None):\n",
    "#         self.children: List['Nodes'] = []\n",
    "#         self.parent: 'Node' = parent\n",
    "#         self.state: State = state"
   ]
  },
  {
   "cell_type": "code",
   "execution_count": null,
   "id": "49ace487-bcc3-43df-ae5b-424f17cb4874",
   "metadata": {
    "pycharm": {
     "name": "#%%\n"
    }
   },
   "outputs": [],
   "source": [
    "# class MCTS(Agent):\n",
    "#    def __init__(self, name):\n",
    "#        super(MCTS, self).__init__(name)"
   ]
  },
  {
   "cell_type": "markdown",
   "id": "e0037a71-a406-4c89-bf88-4b22eb53a135",
   "metadata": {
    "pycharm": {
     "name": "#%% md\n"
    }
   },
   "source": [
    "## *Optional exercise: Dynamic Programming*\n",
    "Then use dynamic programming to make your AI more efficient. You can use the class below (or not)"
   ]
  },
  {
   "cell_type": "code",
   "execution_count": null,
   "id": "819b6690",
   "metadata": {
    "jupyter": {
     "outputs_hidden": false
    },
    "pycharm": {
     "name": "#%%\n"
    }
   },
   "outputs": [],
   "source": [
    "class TranspositionTable:\n",
    "    def __init__(self, size=1_000_000):\n",
    "        self.size = size\n",
    "        self.vals = [None] * size\n",
    "\n",
    "    def board_str(self, state: State):\n",
    "        return ''.join([''.join(c) for c in state.board])\n",
    "\n",
    "    def put(self, state: State, utility: float):\n",
    "        bstr = self.board_str(state)\n",
    "        idx = hash(bstr) % self.size\n",
    "        self.vals[idx] = (bstr, utility)\n",
    "\n",
    "    def get(self, state: State):\n",
    "        bstr = self.board_str(state)\n",
    "        idx = hash(bstr) % self.size\n",
    "        stored = self.vals[idx]\n",
    "        if stored is None:\n",
    "            return None\n",
    "        if stored[0] == bstr:\n",
    "            return stored[1]\n",
    "        else:\n",
    "            return None"
   ]
  },
  {
   "cell_type": "code",
   "execution_count": null,
   "id": "d8628c0c",
   "metadata": {
    "jupyter": {
     "outputs_hidden": false
    },
    "pycharm": {
     "name": "#%%\n"
    }
   },
   "outputs": [],
   "source": []
  }
 ],
 "metadata": {
  "kernelspec": {
   "display_name": "Python 3 (ipykernel)",
   "language": "python",
   "name": "python3"
  },
  "language_info": {
   "codemirror_mode": {
    "name": "ipython",
    "version": 3
   },
   "file_extension": ".py",
   "mimetype": "text/x-python",
   "name": "python",
   "nbconvert_exporter": "python",
   "pygments_lexer": "ipython3",
   "version": "3.10.6"
  }
 },
 "nbformat": 4,
 "nbformat_minor": 5
}
